{
 "cells": [
  {
   "cell_type": "code",
   "execution_count": 1,
   "metadata": {},
   "outputs": [],
   "source": [
    "import pandas as pd\n",
    "import numpy as np\n",
    "import datetime as datetime\n",
    "from datetime import datetime\n",
    "import locale"
   ]
  },
  {
   "cell_type": "code",
   "execution_count": 37,
   "metadata": {},
   "outputs": [],
   "source": [
    "def imsakiye(sehir):\n",
    "    df = pd.read_html(f'https://www.milliyet.com.tr/ramazan/imsakiye/almanya-{sehir}-iftar-vakti/')[0]\n",
    "    df['date'] = df['Tarih'].str.extract(r'\\d+\\. Gün (\\d+ \\w+ \\d{4})')\n",
    "    df = df.drop('Tarih', axis = 1)\n",
    "    locale.setlocale(locale.LC_TIME, 'tr_TR')\n",
    "    df['date'] = pd.to_datetime(df['date'], format='%d %B %Y')\n",
    "    df['date'] = df['date'].dt.date\n",
    "    date_column = df.pop('date')\n",
    "    df.insert(0, 'date', date_column)\n",
    "    return df"
   ]
  },
  {
   "cell_type": "code",
   "execution_count": 38,
   "metadata": {},
   "outputs": [
    {
     "data": {
      "text/html": [
       "<div>\n",
       "<style scoped>\n",
       "    .dataframe tbody tr th:only-of-type {\n",
       "        vertical-align: middle;\n",
       "    }\n",
       "\n",
       "    .dataframe tbody tr th {\n",
       "        vertical-align: top;\n",
       "    }\n",
       "\n",
       "    .dataframe thead th {\n",
       "        text-align: right;\n",
       "    }\n",
       "</style>\n",
       "<table border=\"1\" class=\"dataframe\">\n",
       "  <thead>\n",
       "    <tr style=\"text-align: right;\">\n",
       "      <th></th>\n",
       "      <th>date</th>\n",
       "      <th>İmsak</th>\n",
       "      <th>Güneş</th>\n",
       "      <th>Öğle</th>\n",
       "      <th>İkindi</th>\n",
       "      <th>Akşam</th>\n",
       "      <th>Yatsı</th>\n",
       "    </tr>\n",
       "  </thead>\n",
       "  <tbody>\n",
       "    <tr>\n",
       "      <th>0</th>\n",
       "      <td>2024-01-15</td>\n",
       "      <td>06:07</td>\n",
       "      <td>08:04</td>\n",
       "      <td>12:21</td>\n",
       "      <td>14:06</td>\n",
       "      <td>16:27</td>\n",
       "      <td>18:11</td>\n",
       "    </tr>\n",
       "    <tr>\n",
       "      <th>1</th>\n",
       "      <td>2024-01-16</td>\n",
       "      <td>06:06</td>\n",
       "      <td>08:03</td>\n",
       "      <td>12:21</td>\n",
       "      <td>14:07</td>\n",
       "      <td>16:29</td>\n",
       "      <td>18:12</td>\n",
       "    </tr>\n",
       "    <tr>\n",
       "      <th>2</th>\n",
       "      <td>2024-01-17</td>\n",
       "      <td>06:06</td>\n",
       "      <td>08:02</td>\n",
       "      <td>12:21</td>\n",
       "      <td>14:08</td>\n",
       "      <td>16:31</td>\n",
       "      <td>18:13</td>\n",
       "    </tr>\n",
       "    <tr>\n",
       "      <th>3</th>\n",
       "      <td>2024-01-18</td>\n",
       "      <td>06:05</td>\n",
       "      <td>08:01</td>\n",
       "      <td>12:22</td>\n",
       "      <td>14:10</td>\n",
       "      <td>16:32</td>\n",
       "      <td>18:15</td>\n",
       "    </tr>\n",
       "    <tr>\n",
       "      <th>4</th>\n",
       "      <td>2024-01-19</td>\n",
       "      <td>06:04</td>\n",
       "      <td>08:00</td>\n",
       "      <td>12:22</td>\n",
       "      <td>14:11</td>\n",
       "      <td>16:34</td>\n",
       "      <td>18:16</td>\n",
       "    </tr>\n",
       "    <tr>\n",
       "      <th>5</th>\n",
       "      <td>2024-01-20</td>\n",
       "      <td>06:04</td>\n",
       "      <td>07:59</td>\n",
       "      <td>12:22</td>\n",
       "      <td>14:12</td>\n",
       "      <td>16:36</td>\n",
       "      <td>18:17</td>\n",
       "    </tr>\n",
       "    <tr>\n",
       "      <th>6</th>\n",
       "      <td>2024-01-21</td>\n",
       "      <td>06:03</td>\n",
       "      <td>07:58</td>\n",
       "      <td>12:23</td>\n",
       "      <td>14:14</td>\n",
       "      <td>16:37</td>\n",
       "      <td>18:19</td>\n",
       "    </tr>\n",
       "    <tr>\n",
       "      <th>7</th>\n",
       "      <td>2024-01-22</td>\n",
       "      <td>06:02</td>\n",
       "      <td>07:57</td>\n",
       "      <td>12:23</td>\n",
       "      <td>14:15</td>\n",
       "      <td>16:39</td>\n",
       "      <td>18:20</td>\n",
       "    </tr>\n",
       "    <tr>\n",
       "      <th>8</th>\n",
       "      <td>2024-01-23</td>\n",
       "      <td>06:01</td>\n",
       "      <td>07:55</td>\n",
       "      <td>12:23</td>\n",
       "      <td>14:17</td>\n",
       "      <td>16:41</td>\n",
       "      <td>18:22</td>\n",
       "    </tr>\n",
       "    <tr>\n",
       "      <th>9</th>\n",
       "      <td>2024-01-24</td>\n",
       "      <td>06:00</td>\n",
       "      <td>07:54</td>\n",
       "      <td>12:23</td>\n",
       "      <td>14:18</td>\n",
       "      <td>16:43</td>\n",
       "      <td>18:23</td>\n",
       "    </tr>\n",
       "  </tbody>\n",
       "</table>\n",
       "</div>"
      ],
      "text/plain": [
       "         date  İmsak  Güneş   Öğle İkindi  Akşam  Yatsı\n",
       "0  2024-01-15  06:07  08:04  12:21  14:06  16:27  18:11\n",
       "1  2024-01-16  06:06  08:03  12:21  14:07  16:29  18:12\n",
       "2  2024-01-17  06:06  08:02  12:21  14:08  16:31  18:13\n",
       "3  2024-01-18  06:05  08:01  12:22  14:10  16:32  18:15\n",
       "4  2024-01-19  06:04  08:00  12:22  14:11  16:34  18:16\n",
       "5  2024-01-20  06:04  07:59  12:22  14:12  16:36  18:17\n",
       "6  2024-01-21  06:03  07:58  12:23  14:14  16:37  18:19\n",
       "7  2024-01-22  06:02  07:57  12:23  14:15  16:39  18:20\n",
       "8  2024-01-23  06:01  07:55  12:23  14:17  16:41  18:22\n",
       "9  2024-01-24  06:00  07:54  12:23  14:18  16:43  18:23"
      ]
     },
     "execution_count": 38,
     "metadata": {},
     "output_type": "execute_result"
    }
   ],
   "source": [
    "df = imsakiye('berlin')\n",
    "df"
   ]
  },
  {
   "cell_type": "code",
   "execution_count": 39,
   "metadata": {},
   "outputs": [
    {
     "data": {
      "text/html": [
       "<div>\n",
       "<style scoped>\n",
       "    .dataframe tbody tr th:only-of-type {\n",
       "        vertical-align: middle;\n",
       "    }\n",
       "\n",
       "    .dataframe tbody tr th {\n",
       "        vertical-align: top;\n",
       "    }\n",
       "\n",
       "    .dataframe thead th {\n",
       "        text-align: right;\n",
       "    }\n",
       "</style>\n",
       "<table border=\"1\" class=\"dataframe\">\n",
       "  <thead>\n",
       "    <tr style=\"text-align: right;\">\n",
       "      <th></th>\n",
       "      <th>date</th>\n",
       "      <th>İmsak</th>\n",
       "      <th>Güneş</th>\n",
       "      <th>Öğle</th>\n",
       "      <th>İkindi</th>\n",
       "      <th>Akşam</th>\n",
       "      <th>Yatsı</th>\n",
       "    </tr>\n",
       "  </thead>\n",
       "  <tbody>\n",
       "    <tr>\n",
       "      <th>0</th>\n",
       "      <td>2024-01-15</td>\n",
       "      <td>06:07</td>\n",
       "      <td>08:04</td>\n",
       "      <td>12:21</td>\n",
       "      <td>14:06</td>\n",
       "      <td>16:27</td>\n",
       "      <td>18:11</td>\n",
       "    </tr>\n",
       "  </tbody>\n",
       "</table>\n",
       "</div>"
      ],
      "text/plain": [
       "         date  İmsak  Güneş   Öğle İkindi  Akşam  Yatsı\n",
       "0  2024-01-15  06:07  08:04  12:21  14:06  16:27  18:11"
      ]
     },
     "execution_count": 39,
     "metadata": {},
     "output_type": "execute_result"
    }
   ],
   "source": [
    "df[0:1]"
   ]
  },
  {
   "cell_type": "code",
   "execution_count": 22,
   "metadata": {},
   "outputs": [],
   "source": [
    "def kalan_süreyi_hesapla(sehir):\n",
    "    df = imsakiye(sehir)\n",
    "    now = datetime.now()\n",
    "    aksam_time = pd.to_datetime(df['Akşam'][0], format='%H:%M')\n",
    "    combined_aksam_time = datetime.combine(now.date(), aksam_time.time())\n",
    "    # Eğer aksam zamanı şu andan önceyse, bir sonraki gün için hesapla\n",
    "    if combined_aksam_time < now:\n",
    "        combined_aksam_time = datetime.combine(now.date() + timedelta(days=1), aksam_time.time())\n",
    "    remaining_time = combined_aksam_time - now\n",
    "    hours, remainder = divmod(remaining_time.seconds, 3600)\n",
    "    minutes = remainder // 60\n",
    "    print(\"Kalan süre: {} hours {} minute\".format(hours, minutes))"
   ]
  },
  {
   "cell_type": "code",
   "execution_count": 24,
   "metadata": {},
   "outputs": [
    {
     "name": "stdout",
     "output_type": "stream",
     "text": [
      "Kalan süre: 16 hours 40 minute\n"
     ]
    }
   ],
   "source": [
    "kalan = kalan_süreyi_hesapla('berlin')"
   ]
  },
  {
   "cell_type": "code",
   "execution_count": null,
   "metadata": {},
   "outputs": [],
   "source": []
  }
 ],
 "metadata": {
  "kernelspec": {
   "display_name": "Python 3.9.18 ('venv': venv)",
   "language": "python",
   "name": "python3"
  },
  "language_info": {
   "codemirror_mode": {
    "name": "ipython",
    "version": 3
   },
   "file_extension": ".py",
   "mimetype": "text/x-python",
   "name": "python",
   "nbconvert_exporter": "python",
   "pygments_lexer": "ipython3",
   "version": "3.9.18"
  },
  "orig_nbformat": 4,
  "vscode": {
   "interpreter": {
    "hash": "de90d8635416689778c3d229f0a4de1be1fa617d75e3a221b2f5babf334f5d07"
   }
  }
 },
 "nbformat": 4,
 "nbformat_minor": 2
}
